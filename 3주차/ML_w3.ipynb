{
  "nbformat": 4,
  "nbformat_minor": 0,
  "metadata": {
    "colab": {
      "provenance": [],
      "authorship_tag": "ABX9TyPhP3EauCOZpdSxO51cQ9yh",
      "include_colab_link": true
    },
    "kernelspec": {
      "name": "python3",
      "display_name": "Python 3"
    },
    "language_info": {
      "name": "python"
    }
  },
  "cells": [
    {
      "cell_type": "markdown",
      "metadata": {
        "id": "view-in-github",
        "colab_type": "text"
      },
      "source": [
        "<a href=\"https://colab.research.google.com/github/choius0528/Machine-Learning_Study/blob/main/3%EC%A3%BC%EC%B0%A8/ML_w3.ipynb\" target=\"_parent\"><img src=\"https://colab.research.google.com/assets/colab-badge.svg\" alt=\"Open In Colab\"/></a>"
      ]
    },
    {
      "cell_type": "code",
      "execution_count": null,
      "metadata": {
        "id": "i3Sw5K_f1zGc"
      },
      "outputs": [],
      "source": []
    },
    {
      "cell_type": "markdown",
      "source": [
        "3주차"
      ],
      "metadata": {
        "id": "WkjKf-SW3GP4"
      }
    },
    {
      "cell_type": "code",
      "source": [],
      "metadata": {
        "id": "Dm1hHLvh3HOk"
      },
      "execution_count": null,
      "outputs": []
    }
  ]
}